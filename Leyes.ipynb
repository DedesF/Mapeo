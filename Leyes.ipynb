{
 "cells": [
  {
   "cell_type": "code",
   "execution_count": 120,
   "metadata": {},
   "outputs": [],
   "source": [
    "import pandas as pd\n",
    "import os\n",
    "\n",
    "sondaje = 'DD3985'\n",
    "ruta_base = r'C:\\Users\\house\\Desktop\\Minera Los Pelambres\\Muestrera\\Mapeo\\Reporte cutting'"
   ]
  },
  {
   "cell_type": "markdown",
   "metadata": {},
   "source": [
    "ETL Litologia"
   ]
  },
  {
   "cell_type": "code",
   "execution_count": 121,
   "metadata": {},
   "outputs": [
    {
     "data": {
      "text/html": [
       "<div>\n",
       "<style scoped>\n",
       "    .dataframe tbody tr th:only-of-type {\n",
       "        vertical-align: middle;\n",
       "    }\n",
       "\n",
       "    .dataframe tbody tr th {\n",
       "        vertical-align: top;\n",
       "    }\n",
       "\n",
       "    .dataframe thead th {\n",
       "        text-align: right;\n",
       "    }\n",
       "</style>\n",
       "<table border=\"1\" class=\"dataframe\">\n",
       "  <thead>\n",
       "    <tr style=\"text-align: right;\">\n",
       "      <th></th>\n",
       "      <th>Desde</th>\n",
       "      <th>Hasta</th>\n",
       "      <th>Litologia</th>\n",
       "      <th>Comentarios</th>\n",
       "    </tr>\n",
       "  </thead>\n",
       "  <tbody>\n",
       "    <tr>\n",
       "      <th>0</th>\n",
       "      <td>0.0</td>\n",
       "      <td>8.0</td>\n",
       "      <td>SI</td>\n",
       "      <td>relleno de plataforma</td>\n",
       "    </tr>\n",
       "  </tbody>\n",
       "</table>\n",
       "</div>"
      ],
      "text/plain": [
       "   Desde  Hasta Litologia            Comentarios\n",
       "0    0.0    8.0        SI  relleno de plataforma"
      ]
     },
     "execution_count": 121,
     "metadata": {},
     "output_type": "execute_result"
    }
   ],
   "source": [
    "archivo_litologia = sondaje + '\\\\litologia.csv'\n",
    "ruta_litologia = os.path.join(ruta_base, archivo_litologia)\n",
    "df_litologia = pd.read_csv(ruta_litologia)\n",
    "\n",
    "#Elimino la columna registro\n",
    "df_litologia.drop(['Reg'], axis=1, inplace=True)\n",
    "\n",
    "# Elimino todas las comas de los comentarios\n",
    "df_litologia['Comentarios'] = df_litologia['Comentarios'].fillna('').astype(str).str.replace(',', '', regex=True)\n",
    "\n",
    "#Eliminar las filas que contienen sólo 0\n",
    "df_litologia = df_litologia.dropna(subset=[\"Desde\", \"Hasta\"], how=\"all\")\n",
    "\n",
    "df_litologia.to_csv(r'data\\\\litologia.csv', index=False, header=True)\n",
    "\n",
    "df_litologia.head(1)"
   ]
  },
  {
   "cell_type": "markdown",
   "metadata": {},
   "source": [
    "ETL Volumen de alteracion"
   ]
  },
  {
   "cell_type": "code",
   "execution_count": null,
   "metadata": {},
   "outputs": [
    {
     "data": {
      "text/html": [
       "<div>\n",
       "<style scoped>\n",
       "    .dataframe tbody tr th:only-of-type {\n",
       "        vertical-align: middle;\n",
       "    }\n",
       "\n",
       "    .dataframe tbody tr th {\n",
       "        vertical-align: top;\n",
       "    }\n",
       "\n",
       "    .dataframe thead th {\n",
       "        text-align: right;\n",
       "    }\n",
       "</style>\n",
       "<table border=\"1\" class=\"dataframe\">\n",
       "  <thead>\n",
       "    <tr style=\"text-align: right;\">\n",
       "      <th></th>\n",
       "      <th>Desde</th>\n",
       "      <th>Hasta</th>\n",
       "      <th>K (Biot)</th>\n",
       "      <th>CS</th>\n",
       "      <th>QS</th>\n",
       "      <th>SI</th>\n",
       "      <th>K (Feld)</th>\n",
       "      <th>ARC</th>\n",
       "      <th>Epid</th>\n",
       "      <th>Cl</th>\n",
       "      <th>NR</th>\n",
       "      <th>K (Hist)</th>\n",
       "      <th>Comentarios</th>\n",
       "    </tr>\n",
       "  </thead>\n",
       "  <tbody>\n",
       "    <tr>\n",
       "      <th>0</th>\n",
       "      <td>0.0</td>\n",
       "      <td>8.0</td>\n",
       "      <td>0</td>\n",
       "      <td>0</td>\n",
       "      <td>0</td>\n",
       "      <td>0</td>\n",
       "      <td>0</td>\n",
       "      <td>0</td>\n",
       "      <td>0</td>\n",
       "      <td>0</td>\n",
       "      <td>0</td>\n",
       "      <td>0</td>\n",
       "      <td>Relleno de plataforma</td>\n",
       "    </tr>\n",
       "  </tbody>\n",
       "</table>\n",
       "</div>"
      ],
      "text/plain": [
       "   Desde  Hasta  K (Biot)  CS  QS  SI  K (Feld)  ARC  Epid  Cl  NR  K (Hist)  \\\n",
       "0    0.0    8.0         0   0   0   0         0    0     0   0   0         0   \n",
       "\n",
       "             Comentarios  \n",
       "0  Relleno de plataforma  "
      ]
     },
     "execution_count": 132,
     "metadata": {},
     "output_type": "execute_result"
    }
   ],
   "source": [
    "archivo_volalt = sondaje + '\\\\volalt.csv'\n",
    "ruta_volalt = os.path.join(ruta_base, archivo_volalt)\n",
    "df_volalt = pd.read_csv(ruta_volalt)\n",
    "\n",
    "#Elimino la columna registro\n",
    "df_volalt.drop(['Reg', 'Litologia'], axis=1, inplace=True)\n",
    "\n",
    "#Eliminar las filas que contienen sólo 0\n",
    "df_volalt = df_volalt.dropna(subset=[\"Desde\", \"Hasta\"], how=\"all\")\n",
    "\n",
    "# Elimino todas las comas de los comentarios\n",
    "df_volalt['Comentarios'] = df_volalt['Comentarios'].fillna('').astype(str).str.replace(',', '', regex=True)\n",
    "\n",
    "# Relleno con 0 las filas sin alteracion\n",
    "columnas_volalt = ['K (Biot)', 'CS', 'QS', 'SI', 'K (Feld)', 'ARC', 'Epid', 'Cl', 'NR']\n",
    "df_volalt[columnas_volalt] = df_volalt[columnas_volalt].apply(pd.to_numeric, errors='coerce').fillna(0).astype(int)\n",
    "\n",
    "df_volalt.to_csv(r'data\\\\volalt.csv', index=False, header=True)\n",
    "\n",
    "df_volalt.head(1)"
   ]
  },
  {
   "cell_type": "markdown",
   "metadata": {},
   "source": [
    "ETL Alteracion"
   ]
  },
  {
   "cell_type": "code",
   "execution_count": 123,
   "metadata": {},
   "outputs": [
    {
     "data": {
      "text/html": [
       "<div>\n",
       "<style scoped>\n",
       "    .dataframe tbody tr th:only-of-type {\n",
       "        vertical-align: middle;\n",
       "    }\n",
       "\n",
       "    .dataframe tbody tr th {\n",
       "        vertical-align: top;\n",
       "    }\n",
       "\n",
       "    .dataframe thead th {\n",
       "        text-align: right;\n",
       "    }\n",
       "</style>\n",
       "<table border=\"1\" class=\"dataframe\">\n",
       "  <thead>\n",
       "    <tr style=\"text-align: right;\">\n",
       "      <th></th>\n",
       "      <th>Desde</th>\n",
       "      <th>Hasta</th>\n",
       "      <th>Tipo Alt</th>\n",
       "      <th>Comentarios</th>\n",
       "    </tr>\n",
       "  </thead>\n",
       "  <tbody>\n",
       "    <tr>\n",
       "      <th>0</th>\n",
       "      <td>0.0</td>\n",
       "      <td>8.0</td>\n",
       "      <td>SI</td>\n",
       "      <td>Relleno de plataforma</td>\n",
       "    </tr>\n",
       "  </tbody>\n",
       "</table>\n",
       "</div>"
      ],
      "text/plain": [
       "   Desde  Hasta Tipo Alt            Comentarios\n",
       "0    0.0    8.0       SI  Relleno de plataforma"
      ]
     },
     "execution_count": 123,
     "metadata": {},
     "output_type": "execute_result"
    }
   ],
   "source": [
    "archivo_alteracion = sondaje + '\\\\alteracion.csv'\n",
    "ruta_alteracion = os.path.join(ruta_base, archivo_alteracion)\n",
    "df_alteracion = pd.read_csv(ruta_alteracion)\n",
    "\n",
    "#Elimino la columna registro\n",
    "df_alteracion.drop(['Reg', 'Lito'], axis=1, inplace=True)\n",
    "\n",
    "# Elimino todas las comas de los comentarios\n",
    "df_alteracion['Comentarios'] = df_alteracion['Comentarios'].fillna('').astype(str).str.replace(',', '', regex=True)\n",
    "\n",
    "#Eliminar las filas que contienen sólo 0\n",
    "df_alteracion = df_alteracion.dropna(subset=[\"Desde\", \"Hasta\"], how=\"all\")\n",
    "\n",
    "df_alteracion.to_csv(r'data\\\\alteracion.csv', index=False, header=True)\n",
    "\n",
    "df_alteracion.head(1)\n"
   ]
  },
  {
   "cell_type": "markdown",
   "metadata": {},
   "source": [
    "ETL Estructuras"
   ]
  },
  {
   "cell_type": "code",
   "execution_count": 124,
   "metadata": {},
   "outputs": [
    {
     "data": {
      "text/html": [
       "<div>\n",
       "<style scoped>\n",
       "    .dataframe tbody tr th:only-of-type {\n",
       "        vertical-align: middle;\n",
       "    }\n",
       "\n",
       "    .dataframe tbody tr th {\n",
       "        vertical-align: top;\n",
       "    }\n",
       "\n",
       "    .dataframe thead th {\n",
       "        text-align: right;\n",
       "    }\n",
       "</style>\n",
       "<table border=\"1\" class=\"dataframe\">\n",
       "  <thead>\n",
       "    <tr style=\"text-align: right;\">\n",
       "      <th></th>\n",
       "      <th>Desde</th>\n",
       "      <th>Hasta</th>\n",
       "      <th>Relleno de Est</th>\n",
       "      <th>Angulo</th>\n",
       "      <th>Comentarios</th>\n",
       "    </tr>\n",
       "  </thead>\n",
       "  <tbody>\n",
       "    <tr>\n",
       "      <th>0</th>\n",
       "      <td>0.0</td>\n",
       "      <td>8.0</td>\n",
       "      <td>SI</td>\n",
       "      <td></td>\n",
       "      <td>Relleno de plataforma</td>\n",
       "    </tr>\n",
       "  </tbody>\n",
       "</table>\n",
       "</div>"
      ],
      "text/plain": [
       "   Desde  Hasta Relleno de Est Angulo            Comentarios\n",
       "0    0.0    8.0             SI         Relleno de plataforma"
      ]
     },
     "execution_count": 124,
     "metadata": {},
     "output_type": "execute_result"
    }
   ],
   "source": [
    "archivo_estructuras = sondaje + '\\\\estructuras.csv'\n",
    "ruta_estructuras = os.path.join(ruta_base, archivo_estructuras)\n",
    "df_estructuras = pd.read_csv(ruta_estructuras)\n",
    "#Elimino la columna registro\n",
    "df_estructuras.drop(['Reg'], axis=1, inplace=True)\n",
    "\n",
    "# Transformo la columna Angulo a valores vacios\n",
    "df_estructuras['Angulo'] = df_estructuras['Angulo'].fillna('').astype(str)\n",
    "\n",
    "# Elimino todas las comas de los comentarios\n",
    "df_estructuras['Comentarios'] = df_estructuras['Comentarios'].fillna('').astype(str).str.replace(',', '', regex=True)\n",
    "\n",
    "#Eliminar las filas que contienen sólo 0\n",
    "df_estructuras = df_estructuras.dropna(subset=[\"Desde\", \"Hasta\"], how=\"all\")\n",
    "\n",
    "df_estructuras.to_csv(r'data\\\\estructuras.csv', index=False, header=True)\n",
    "\n",
    "df_estructuras.head(1)"
   ]
  },
  {
   "cell_type": "markdown",
   "metadata": {},
   "source": [
    "ETL Mineralizacion"
   ]
  },
  {
   "cell_type": "code",
   "execution_count": 131,
   "metadata": {},
   "outputs": [
    {
     "data": {
      "text/html": [
       "<div>\n",
       "<style scoped>\n",
       "    .dataframe tbody tr th:only-of-type {\n",
       "        vertical-align: middle;\n",
       "    }\n",
       "\n",
       "    .dataframe tbody tr th {\n",
       "        vertical-align: top;\n",
       "    }\n",
       "\n",
       "    .dataframe thead th {\n",
       "        text-align: right;\n",
       "    }\n",
       "</style>\n",
       "<table border=\"1\" class=\"dataframe\">\n",
       "  <thead>\n",
       "    <tr style=\"text-align: right;\">\n",
       "      <th></th>\n",
       "      <th>Desde</th>\n",
       "      <th>Hasta</th>\n",
       "      <th>% Sulf</th>\n",
       "      <th>Py</th>\n",
       "      <th>Cpy</th>\n",
       "      <th>Cc</th>\n",
       "      <th>Bo</th>\n",
       "      <th>Mo</th>\n",
       "    </tr>\n",
       "  </thead>\n",
       "  <tbody>\n",
       "    <tr>\n",
       "      <th>0</th>\n",
       "      <td>0.0</td>\n",
       "      <td>16.0</td>\n",
       "      <td>0.001</td>\n",
       "      <td>0.001</td>\n",
       "      <td>0.0</td>\n",
       "      <td>0.0</td>\n",
       "      <td>0.0</td>\n",
       "      <td>0.0</td>\n",
       "    </tr>\n",
       "  </tbody>\n",
       "</table>\n",
       "</div>"
      ],
      "text/plain": [
       "   Desde  Hasta  % Sulf     Py  Cpy   Cc   Bo   Mo\n",
       "0    0.0   16.0   0.001  0.001  0.0  0.0  0.0  0.0"
      ]
     },
     "execution_count": 131,
     "metadata": {},
     "output_type": "execute_result"
    }
   ],
   "source": [
    "archivo_mineralizacion = sondaje + '\\\\mineralizacion.csv'\n",
    "ruta_mineralizacion = os.path.join(ruta_base, archivo_mineralizacion)\n",
    "df_mineralizacion = pd.read_csv(ruta_mineralizacion)\n",
    "df_mineralizacion.drop(['Ident.', 'Zona mineral'], axis=1, inplace=True)\n",
    "df_mineralizacion.fillna(0, inplace=True)\n",
    "#Eliminar filas inválidad, las que tienen todos los valores 0\n",
    "columnas = ['Desde', 'Hasta', '% Sulf', 'Py', 'Cpy', 'Cc', 'Bo', 'Mo']\n",
    "\n",
    "#Eliminar las filas que contienen sólo 0\n",
    "df_mineralizacion = df_mineralizacion.loc[~(df_mineralizacion[columnas] == 0).all(axis=1)]\n",
    "\n",
    "#Reemplazar las filas cuando tienen valores 0 en las leyes\n",
    "columnas_leyes = ['% Sulf', 'Py', 'Cpy', 'Cc', 'Bo', 'Mo']\n",
    "df_mineralizacion.loc[(df_mineralizacion[columnas_leyes] == 0).all(axis=1), ['% Sulf', 'Py']] = 0.001\n",
    "\n",
    "# Agregar una fila inicial si el primer intervalo no comienza desde 0\n",
    "if df_mineralizacion['Desde'].iloc[0] > 0:\n",
    "    first_row = {        \n",
    "        'Desde': 0,\n",
    "        'Hasta': df_mineralizacion['Desde'].iloc[0],        \n",
    "        '% Sulf': 0.001,\n",
    "        'Py': 0.001,\n",
    "        'Cpy': 0.0,\n",
    "        'Cc': 0.0,\n",
    "        'Bo': 0.0,\n",
    "        'Mo': 0.0\n",
    "    }\n",
    "    # Insertar la fila inicial en la primera posición\n",
    "    df_mineralizacion = pd.concat([pd.DataFrame([first_row]), df_mineralizacion], ignore_index=True)\n",
    "\n",
    "# Crear filas para cubrir los gaps entre las filas existentes\n",
    "rows_to_update = []\n",
    "for i in range(1, len(df_mineralizacion)):\n",
    "    prev_hasta = df_mineralizacion.iloc[i - 1]['Hasta']\n",
    "    curr_desde = df_mineralizacion.iloc[i]['Desde']\n",
    "    \n",
    "    if curr_desde > prev_hasta:  # Detectar gap\n",
    "        gap_row = {            \n",
    "            'Desde': prev_hasta,\n",
    "            'Hasta': curr_desde,            \n",
    "            '% Sulf': 0.001,\n",
    "            'Py': 0.001,\n",
    "            'Cpy': 0.0,\n",
    "            'Cc': 0.0,\n",
    "            'Bo': 0.0,\n",
    "            'Mo': 0.0\n",
    "        }\n",
    "        rows_to_update.append((i, gap_row))\n",
    "df_mineralizacion.to_csv(r'data\\\\mineralizacion.csv', index=False, header=True)\n",
    "df_mineralizacion.head(1)"
   ]
  },
  {
   "cell_type": "markdown",
   "metadata": {},
   "source": [
    "ETL Minzone"
   ]
  },
  {
   "cell_type": "code",
   "execution_count": 126,
   "metadata": {},
   "outputs": [
    {
     "data": {
      "text/html": [
       "<div>\n",
       "<style scoped>\n",
       "    .dataframe tbody tr th:only-of-type {\n",
       "        vertical-align: middle;\n",
       "    }\n",
       "\n",
       "    .dataframe tbody tr th {\n",
       "        vertical-align: top;\n",
       "    }\n",
       "\n",
       "    .dataframe thead th {\n",
       "        text-align: right;\n",
       "    }\n",
       "</style>\n",
       "<table border=\"1\" class=\"dataframe\">\n",
       "  <thead>\n",
       "    <tr style=\"text-align: right;\">\n",
       "      <th></th>\n",
       "      <th>Desde</th>\n",
       "      <th>Hasta</th>\n",
       "      <th>MinZone</th>\n",
       "      <th>Comentarios</th>\n",
       "    </tr>\n",
       "  </thead>\n",
       "  <tbody>\n",
       "    <tr>\n",
       "      <th>0</th>\n",
       "      <td>0.0</td>\n",
       "      <td>8.0</td>\n",
       "      <td>SI</td>\n",
       "      <td>Relleno de plataforma</td>\n",
       "    </tr>\n",
       "  </tbody>\n",
       "</table>\n",
       "</div>"
      ],
      "text/plain": [
       "   Desde  Hasta MinZone            Comentarios\n",
       "0    0.0    8.0      SI  Relleno de plataforma"
      ]
     },
     "execution_count": 126,
     "metadata": {},
     "output_type": "execute_result"
    }
   ],
   "source": [
    "archivo_minzone = sondaje + '\\\\minzone.csv'\n",
    "ruta_minzone = os.path.join(ruta_base, archivo_minzone)\n",
    "df_minzone = pd.read_csv(ruta_minzone)\n",
    "#Elimino la columna registro\n",
    "df_minzone.drop(['Reg'], axis=1, inplace=True)\n",
    "\n",
    "# Elimino todas las comas de los comentarios\n",
    "df_minzone['Comentarios'] = df_minzone['Comentarios'].fillna('').astype(str).str.replace(',', '', regex=True)\n",
    "\n",
    "#Eliminar las filas que contienen sólo 0\n",
    "df_minzone = df_minzone.dropna(subset=[\"Desde\", \"Hasta\"], how=\"all\")\n",
    "\n",
    "df_minzone.to_csv(r'data\\\\minzone.csv', index=False, header=True)\n",
    "\n",
    "df_minzone.head(1)"
   ]
  },
  {
   "cell_type": "markdown",
   "metadata": {},
   "source": [
    "ETL Pisotecho"
   ]
  },
  {
   "cell_type": "code",
   "execution_count": 127,
   "metadata": {},
   "outputs": [
    {
     "data": {
      "text/html": [
       "<div>\n",
       "<style scoped>\n",
       "    .dataframe tbody tr th:only-of-type {\n",
       "        vertical-align: middle;\n",
       "    }\n",
       "\n",
       "    .dataframe tbody tr th {\n",
       "        vertical-align: top;\n",
       "    }\n",
       "\n",
       "    .dataframe thead th {\n",
       "        text-align: right;\n",
       "    }\n",
       "</style>\n",
       "<table border=\"1\" class=\"dataframe\">\n",
       "  <thead>\n",
       "    <tr style=\"text-align: right;\">\n",
       "      <th></th>\n",
       "      <th>Profundidad</th>\n",
       "      <th>Piso Techo</th>\n",
       "      <th>Comentarios</th>\n",
       "    </tr>\n",
       "  </thead>\n",
       "  <tbody>\n",
       "    <tr>\n",
       "      <th>0</th>\n",
       "      <td>124.0</td>\n",
       "      <td>6.0</td>\n",
       "      <td></td>\n",
       "    </tr>\n",
       "  </tbody>\n",
       "</table>\n",
       "</div>"
      ],
      "text/plain": [
       "   Profundidad  Piso Techo Comentarios\n",
       "0        124.0         6.0            "
      ]
     },
     "execution_count": 127,
     "metadata": {},
     "output_type": "execute_result"
    }
   ],
   "source": [
    "archivo_pisotecho = sondaje + '\\\\pisotecho.csv'\n",
    "ruta_pisotecho = os.path.join(ruta_base, archivo_pisotecho)\n",
    "df_pisotecho = pd.read_csv(ruta_pisotecho)\n",
    "#Elimino la columna registro\n",
    "df_pisotecho.drop(['Reg'], axis=1, inplace=True)\n",
    "\n",
    "# Elimino todas las comas de los comentarios\n",
    "df_pisotecho['Comentarios'] = df_pisotecho['Comentarios'].fillna('').astype(str).str.replace(',', '', regex=True)\n",
    "\n",
    "#Eliminar las filas que contienen sólo 0\n",
    "df_pisotecho = df_pisotecho.dropna(subset=['Profundidad'], how=\"all\")\n",
    "\n",
    "df_pisotecho.to_csv(r'data\\\\pisotecho.csv', index=False, header=True)\n",
    "\n",
    "df_pisotecho.head(1)"
   ]
  },
  {
   "cell_type": "markdown",
   "metadata": {},
   "source": [
    "ETL Vetillas"
   ]
  },
  {
   "cell_type": "code",
   "execution_count": 128,
   "metadata": {},
   "outputs": [
    {
     "data": {
      "text/html": [
       "<div>\n",
       "<style scoped>\n",
       "    .dataframe tbody tr th:only-of-type {\n",
       "        vertical-align: middle;\n",
       "    }\n",
       "\n",
       "    .dataframe tbody tr th {\n",
       "        vertical-align: top;\n",
       "    }\n",
       "\n",
       "    .dataframe thead th {\n",
       "        text-align: right;\n",
       "    }\n",
       "</style>\n",
       "<table border=\"1\" class=\"dataframe\">\n",
       "  <thead>\n",
       "    <tr style=\"text-align: right;\">\n",
       "      <th></th>\n",
       "      <th>Desde</th>\n",
       "      <th>Hasta</th>\n",
       "      <th>T4</th>\n",
       "      <th>A</th>\n",
       "      <th>B</th>\n",
       "      <th>ED</th>\n",
       "      <th>D</th>\n",
       "      <th>Comentarios</th>\n",
       "    </tr>\n",
       "  </thead>\n",
       "  <tbody>\n",
       "    <tr>\n",
       "      <th>0</th>\n",
       "      <td>0.0</td>\n",
       "      <td>8.0</td>\n",
       "      <td>0</td>\n",
       "      <td>0</td>\n",
       "      <td>0</td>\n",
       "      <td>0</td>\n",
       "      <td>0</td>\n",
       "      <td>Relleno plataforma</td>\n",
       "    </tr>\n",
       "  </tbody>\n",
       "</table>\n",
       "</div>"
      ],
      "text/plain": [
       "   Desde  Hasta  T4  A  B  ED  D         Comentarios\n",
       "0    0.0    8.0   0  0  0   0  0  Relleno plataforma"
      ]
     },
     "execution_count": 128,
     "metadata": {},
     "output_type": "execute_result"
    }
   ],
   "source": [
    "archivo_vetillas = sondaje + '\\\\vetillas.csv'\n",
    "ruta_vetillas = os.path.join(ruta_base, archivo_vetillas)\n",
    "df_vetillas = pd.read_csv(ruta_vetillas)\n",
    "\n",
    "#Elimino la columna registro\n",
    "df_vetillas.drop(['Reg'], axis=1, inplace=True)\n",
    "\n",
    "# Elimino todas las comas de los comentarios\n",
    "df_vetillas['Comentarios'] = df_vetillas['Comentarios'].fillna('').astype(str).str.replace(',', '', regex=True)\n",
    "\n",
    "# Relleno con 0 las filas de las vetillas y comentarios vacíos\n",
    "columnas_vetillas =['T4', 'A', 'B', 'ED', 'D']\n",
    "df_vetillas[columnas_vetillas] = df_vetillas[columnas_vetillas].apply(pd.to_numeric, errors='coerce').fillna(0).astype(int)\n",
    "\n",
    "#Eliminar las filas que contienen sólo 0\n",
    "df_vetillas = df_vetillas.dropna(subset=[\"Desde\", \"Hasta\"], how=\"all\")\n",
    "df_vetillas.to_csv(r\"data\\\\vetillas.csv\", index=False, header=True)\n",
    "df_vetillas.head(1)"
   ]
  },
  {
   "cell_type": "markdown",
   "metadata": {},
   "source": [
    "ETL Unidad geologica"
   ]
  },
  {
   "cell_type": "code",
   "execution_count": 129,
   "metadata": {},
   "outputs": [
    {
     "data": {
      "text/html": [
       "<div>\n",
       "<style scoped>\n",
       "    .dataframe tbody tr th:only-of-type {\n",
       "        vertical-align: middle;\n",
       "    }\n",
       "\n",
       "    .dataframe tbody tr th {\n",
       "        vertical-align: top;\n",
       "    }\n",
       "\n",
       "    .dataframe thead th {\n",
       "        text-align: right;\n",
       "    }\n",
       "</style>\n",
       "<table border=\"1\" class=\"dataframe\">\n",
       "  <thead>\n",
       "    <tr style=\"text-align: right;\">\n",
       "      <th></th>\n",
       "      <th>Desde</th>\n",
       "      <th>Hasta</th>\n",
       "      <th>UG</th>\n",
       "      <th>Comentarios</th>\n",
       "    </tr>\n",
       "  </thead>\n",
       "  <tbody>\n",
       "    <tr>\n",
       "      <th>0</th>\n",
       "      <td>0.0</td>\n",
       "      <td>8.0</td>\n",
       "      <td>-9.0</td>\n",
       "      <td>Relleno de plataforma</td>\n",
       "    </tr>\n",
       "  </tbody>\n",
       "</table>\n",
       "</div>"
      ],
      "text/plain": [
       "   Desde  Hasta   UG            Comentarios\n",
       "0    0.0    8.0 -9.0  Relleno de plataforma"
      ]
     },
     "execution_count": 129,
     "metadata": {},
     "output_type": "execute_result"
    }
   ],
   "source": [
    "archivo_ug = sondaje + '\\\\UG.csv'\n",
    "ruta_ug = os.path.join(ruta_base, archivo_ug)\n",
    "df_ug = pd.read_csv(ruta_ug)\n",
    "#Elimino la columna registro\n",
    "df_ug.drop(['Reg'], axis=1, inplace=True)\n",
    "\n",
    "# Elimino todas las comas de los comentarios\n",
    "df_ug['Comentarios'] = df_ug['Comentarios'].fillna('').astype(str).str.replace(',', '', regex=True)\n",
    "\n",
    "#Eliminar las filas que contienen sólo 0\n",
    "df_ug = df_ug.dropna(subset=[\"Desde\", \"Hasta\"], how=\"all\")\n",
    "\n",
    "df_ug.to_csv(r'data\\\\ug.csv', index=False, header=True)\n",
    "\n",
    "df_ug.head(1)"
   ]
  },
  {
   "cell_type": "markdown",
   "metadata": {},
   "source": [
    "Pega el siguiente código en  la línea de comandos"
   ]
  },
  {
   "cell_type": "code",
   "execution_count": 130,
   "metadata": {},
   "outputs": [],
   "source": [
    "# pyinstaller --onefile --hidden-import=comtypes.stream --hidden-import=comtypes --add-data \"C:\\Python\\Mapeo\\data\\litologia.csv;.\" --add-data \"C:\\Python\\Mapeo\\data\\volalt.csv;.\" --add-data \"C:\\Python\\Mapeo\\data\\alteracion.csv;.\" --add-data \"C:\\Python\\Mapeo\\data\\estructuras.csv;.\" --add-data \"C:\\Python\\Mapeo\\data\\mineralizacion.csv;.\" --add-data \"C:\\Python\\Mapeo\\data\\minzone.csv;.\" --add-data \"C:\\Python\\Mapeo\\data\\pisotecho.csv;.\" --add-data \"C:\\Python\\Mapeo\\data\\vetillas.csv;.\" --add-data \"C:\\Python\\Mapeo\\data\\ug.csv;.\" mapeo.py"
   ]
  }
 ],
 "metadata": {
  "kernelspec": {
   "display_name": "mapeo",
   "language": "python",
   "name": "python3"
  },
  "language_info": {
   "codemirror_mode": {
    "name": "ipython",
    "version": 3
   },
   "file_extension": ".py",
   "mimetype": "text/x-python",
   "name": "python",
   "nbconvert_exporter": "python",
   "pygments_lexer": "ipython3",
   "version": "3.7.9"
  }
 },
 "nbformat": 4,
 "nbformat_minor": 2
}
