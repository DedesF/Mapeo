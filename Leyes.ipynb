{
 "cells": [
  {
   "cell_type": "code",
   "execution_count": null,
   "metadata": {},
   "outputs": [],
   "source": [
    "import pandas as pd\n"
   ]
  },
  {
   "cell_type": "code",
   "execution_count": 38,
   "metadata": {},
   "outputs": [],
   "source": [
    "df_leyes = pd.read_csv(r\"C:\\Users\\house\\Desktop\\Minera Los Pelambres\\Muestrera\\Mapeo\\Reporte cutting\\Leyes DDH3964.csv\")"
   ]
  },
  {
   "cell_type": "code",
   "execution_count": 39,
   "metadata": {},
   "outputs": [],
   "source": [
    "df_leyes.drop(['Ident.', 'Zona mineral'], axis=1, inplace=True)\n",
    "df_leyes.fillna(0, inplace=True)"
   ]
  },
  {
   "cell_type": "code",
   "execution_count": 40,
   "metadata": {},
   "outputs": [
    {
     "data": {
      "text/html": [
       "<div>\n",
       "<style scoped>\n",
       "    .dataframe tbody tr th:only-of-type {\n",
       "        vertical-align: middle;\n",
       "    }\n",
       "\n",
       "    .dataframe tbody tr th {\n",
       "        vertical-align: top;\n",
       "    }\n",
       "\n",
       "    .dataframe thead th {\n",
       "        text-align: right;\n",
       "    }\n",
       "</style>\n",
       "<table border=\"1\" class=\"dataframe\">\n",
       "  <thead>\n",
       "    <tr style=\"text-align: right;\">\n",
       "      <th></th>\n",
       "      <th>Desde</th>\n",
       "      <th>Hasta</th>\n",
       "      <th>% Sulf</th>\n",
       "      <th>Py</th>\n",
       "      <th>Cpy</th>\n",
       "      <th>Cc</th>\n",
       "      <th>Bo</th>\n",
       "      <th>Mo</th>\n",
       "    </tr>\n",
       "  </thead>\n",
       "  <tbody>\n",
       "    <tr>\n",
       "      <th>0</th>\n",
       "      <td>52</td>\n",
       "      <td>54</td>\n",
       "      <td>1.16</td>\n",
       "      <td>0.48</td>\n",
       "      <td>0.19</td>\n",
       "      <td>0.32</td>\n",
       "      <td>0.0</td>\n",
       "      <td>0.17</td>\n",
       "    </tr>\n",
       "    <tr>\n",
       "      <th>1</th>\n",
       "      <td>54</td>\n",
       "      <td>56</td>\n",
       "      <td>1.55</td>\n",
       "      <td>0.51</td>\n",
       "      <td>0.35</td>\n",
       "      <td>0.60</td>\n",
       "      <td>0.0</td>\n",
       "      <td>0.09</td>\n",
       "    </tr>\n",
       "    <tr>\n",
       "      <th>2</th>\n",
       "      <td>56</td>\n",
       "      <td>58</td>\n",
       "      <td>1.31</td>\n",
       "      <td>0.46</td>\n",
       "      <td>0.20</td>\n",
       "      <td>0.35</td>\n",
       "      <td>0.0</td>\n",
       "      <td>0.30</td>\n",
       "    </tr>\n",
       "    <tr>\n",
       "      <th>3</th>\n",
       "      <td>58</td>\n",
       "      <td>60</td>\n",
       "      <td>1.04</td>\n",
       "      <td>0.46</td>\n",
       "      <td>0.17</td>\n",
       "      <td>0.30</td>\n",
       "      <td>0.0</td>\n",
       "      <td>0.11</td>\n",
       "    </tr>\n",
       "    <tr>\n",
       "      <th>4</th>\n",
       "      <td>60</td>\n",
       "      <td>62</td>\n",
       "      <td>1.06</td>\n",
       "      <td>0.43</td>\n",
       "      <td>0.20</td>\n",
       "      <td>0.34</td>\n",
       "      <td>0.0</td>\n",
       "      <td>0.09</td>\n",
       "    </tr>\n",
       "  </tbody>\n",
       "</table>\n",
       "</div>"
      ],
      "text/plain": [
       "   Desde  Hasta  % Sulf    Py   Cpy    Cc   Bo    Mo\n",
       "0     52     54    1.16  0.48  0.19  0.32  0.0  0.17\n",
       "1     54     56    1.55  0.51  0.35  0.60  0.0  0.09\n",
       "2     56     58    1.31  0.46  0.20  0.35  0.0  0.30\n",
       "3     58     60    1.04  0.46  0.17  0.30  0.0  0.11\n",
       "4     60     62    1.06  0.43  0.20  0.34  0.0  0.09"
      ]
     },
     "execution_count": 40,
     "metadata": {},
     "output_type": "execute_result"
    }
   ],
   "source": [
    "df_leyes.head()\n"
   ]
  },
  {
   "cell_type": "code",
   "execution_count": null,
   "metadata": {},
   "outputs": [
    {
     "name": "stdout",
     "output_type": "stream",
     "text": [
      "     Desde  Hasta  % Sulf      Py   Cpy    Cc   Bo    Mo\n",
      "0        0     52  0.0001  0.0001  0.00  0.00  0.0  0.00\n",
      "1       52     54  1.1600  0.4800  0.19  0.32  0.0  0.17\n",
      "2       54     56  1.5500  0.5100  0.35  0.60  0.0  0.09\n",
      "3       56     58  1.3100  0.4600  0.20  0.35  0.0  0.30\n",
      "4       58     60  1.0400  0.4600  0.17  0.30  0.0  0.11\n",
      "..     ...    ...     ...     ...   ...   ...  ...   ...\n",
      "409    868    870  1.8300  0.3600  0.24  0.41  0.0  0.82\n",
      "410    870    872  1.2700  0.3900  0.20  0.35  0.0  0.33\n",
      "411    872    874  1.0500  0.3600  0.21  0.36  0.0  0.12\n",
      "412    874    876  1.1100  0.3800  0.23  0.39  0.0  0.11\n",
      "413    876    878  0.8800  0.3400  0.17  0.29  0.0  0.08\n",
      "\n",
      "[414 rows x 8 columns]\n"
     ]
    }
   ],
   "source": [
    "# Crear una copia del DataFrame original para modificarlo\n",
    "df_leyes_depurado = df_leyes.copy()\n",
    "\n",
    "# Agregar una fila inicial si el primer intervalo no comienza desde 0\n",
    "if df_leyes_depurado['Desde'].iloc[0] > 0:\n",
    "    first_row = {        \n",
    "        'Desde': 0,\n",
    "        'Hasta': df_leyes_depurado['Desde'].iloc[0],        \n",
    "        '% Sulf': 0.001,\n",
    "        'Py': 0.001,\n",
    "        'Cpy': 0.0,\n",
    "        'Cc': 0.0,\n",
    "        'Bo': 0.0,\n",
    "        'Mo': 0.0\n",
    "    }\n",
    "    df_leyes_depurado = pd.concat([pd.DataFrame([first_row]), df_leyes_depurado], ignore_index=True)\n",
    "\n",
    "# Crear filas para cubrir los gaps entre las filas existentes\n",
    "rows_to_add = []\n",
    "for i in range(1, len(df_leyes_depurado)):\n",
    "    prev_hasta = df_leyes_depurado.iloc[i - 1]['Hasta']\n",
    "    curr_desde = df_leyes_depurado.iloc[i]['Desde']\n",
    "    \n",
    "    if curr_desde > prev_hasta:  # Detectar gap\n",
    "        gap_row = {            \n",
    "            'Desde': prev_hasta,\n",
    "            'Hasta': curr_desde,            \n",
    "            '% Sulf': 0.001,\n",
    "            'Py': 0.001,\n",
    "            'Cpy': 0.0,\n",
    "            'Cc': 0.0,\n",
    "            'Bo': 0.0,\n",
    "            'Mo': 0.0\n",
    "        }\n",
    "        rows_to_add.append(gap_row)\n",
    "\n",
    "# Agregar las filas faltantes al DataFrame original\n",
    "df_leyes_depurado = pd.concat([df_leyes_depurado, pd.DataFrame(rows_to_add)], ignore_index=True)\n",
    "\n",
    "# Ordenar por las columnas 'Desde' y 'Hasta' para mantener la secuencia correcta\n",
    "df_leyes_depurado = df_leyes_depurado.sort_values(by=['Desde', 'Hasta']).reset_index(drop=True)\n",
    "\n",
    "# Mostrar el DataFrame procesado\n",
    "print(df_leyes_depurado)\n"
   ]
  },
  {
   "cell_type": "code",
   "execution_count": 43,
   "metadata": {},
   "outputs": [],
   "source": [
    "df_leyes_depurado.to_csv(r\"leyes.csv\", index=False, header=True)"
   ]
  }
 ],
 "metadata": {
  "kernelspec": {
   "display_name": "mapeo",
   "language": "python",
   "name": "python3"
  },
  "language_info": {
   "codemirror_mode": {
    "name": "ipython",
    "version": 3
   },
   "file_extension": ".py",
   "mimetype": "text/x-python",
   "name": "python",
   "nbconvert_exporter": "python",
   "pygments_lexer": "ipython3",
   "version": "3.7.0"
  }
 },
 "nbformat": 4,
 "nbformat_minor": 2
}
